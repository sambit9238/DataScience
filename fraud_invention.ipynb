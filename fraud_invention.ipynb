{
  "nbformat": 4,
  "nbformat_minor": 0,
  "metadata": {
    "colab": {
      "name": "fraud_invention.ipynb",
      "version": "0.3.2",
      "provenance": [],
      "include_colab_link": true
    },
    "kernelspec": {
      "name": "python2",
      "display_name": "Python 2"
    }
  },
  "cells": [
    {
      "cell_type": "markdown",
      "metadata": {
        "id": "view-in-github",
        "colab_type": "text"
      },
      "source": [
        "<a href=\"https://colab.research.google.com/github/sambit9238/DataScience/blob/master/fraud_invention.ipynb\" target=\"_parent\"><img src=\"https://colab.research.google.com/assets/colab-badge.svg\" alt=\"Open In Colab\"/></a>"
      ]
    },
    {
      "cell_type": "code",
      "metadata": {
        "id": "XuRm3EaWUnnT",
        "colab_type": "code",
        "colab": {}
      },
      "source": [
        "import pandas as pd\n",
        "import numpy as np\n",
        "import matplotlib.pyplot as plt\n",
        "import csv\n",
        "import itertools\n",
        "%matplotlib inline"
      ],
      "execution_count": 0,
      "outputs": []
    },
    {
      "cell_type": "code",
      "metadata": {
        "id": "Quf1AcWcWWdE",
        "colab_type": "code",
        "outputId": "8af033e9-712c-4091-827e-88feb7430b96",
        "colab": {
          "base_uri": "https://localhost:8080/",
          "height": 208
        }
      },
      "source": [
        "!wget https://snap.stanford.edu/data/soc-sign-bitcoinotc.csv.gz\n",
        "!gunzip -k soc-sign-bitcoinotc.csv.gz"
      ],
      "execution_count": 0,
      "outputs": [
        {
          "output_type": "stream",
          "text": [
            "--2019-05-27 14:05:28--  https://snap.stanford.edu/data/soc-sign-bitcoinotc.csv.gz\n",
            "Resolving snap.stanford.edu (snap.stanford.edu)... 171.64.75.80\n",
            "Connecting to snap.stanford.edu (snap.stanford.edu)|171.64.75.80|:443... connected.\n",
            "HTTP request sent, awaiting response... 200 OK\n",
            "Length: 397258 (388K) [application/x-gzip]\n",
            "Saving to: ‘soc-sign-bitcoinotc.csv.gz’\n",
            "\n",
            "\r          soc-sign-   0%[                    ]       0  --.-KB/s               \r         soc-sign-b  14%[=>                  ]  56.00K   265KB/s               \r        soc-sign-bi  43%[=======>            ] 168.00K   397KB/s               \r       soc-sign-bit  84%[===============>    ] 328.00K   515KB/s               \rsoc-sign-bitcoinotc 100%[===================>] 387.95K   609KB/s    in 0.6s    \n",
            "\n",
            "2019-05-27 14:05:29 (609 KB/s) - ‘soc-sign-bitcoinotc.csv.gz’ saved [397258/397258]\n",
            "\n"
          ],
          "name": "stdout"
        }
      ]
    },
    {
      "cell_type": "code",
      "metadata": {
        "id": "b-FX-6Y0XecS",
        "colab_type": "code",
        "outputId": "419cf837-f767-473d-a199-da7041c8aa2f",
        "colab": {
          "base_uri": "https://localhost:8080/",
          "height": 208
        }
      },
      "source": [
        "!wget https://snap.stanford.edu/data/soc-sign-bitcoinalpha.csv.gz\n",
        "!gunzip -k soc-sign-bitcoinalpha.csv.gz"
      ],
      "execution_count": 0,
      "outputs": [
        {
          "output_type": "stream",
          "text": [
            "--2019-05-27 14:05:37--  https://snap.stanford.edu/data/soc-sign-bitcoinalpha.csv.gz\n",
            "Resolving snap.stanford.edu (snap.stanford.edu)... 171.64.75.80\n",
            "Connecting to snap.stanford.edu (snap.stanford.edu)|171.64.75.80|:443... connected.\n",
            "HTTP request sent, awaiting response... 200 OK\n",
            "Length: 149480 (146K) [application/x-gzip]\n",
            "Saving to: ‘soc-sign-bitcoinalpha.csv.gz’\n",
            "\n",
            "soc-sign-bitcoinalp 100%[===================>] 145.98K   409KB/s    in 0.4s    \n",
            "\n",
            "2019-05-27 14:05:37 (409 KB/s) - ‘soc-sign-bitcoinalpha.csv.gz’ saved [149480/149480]\n",
            "\n"
          ],
          "name": "stdout"
        }
      ]
    },
    {
      "cell_type": "code",
      "metadata": {
        "id": "9Gsst1z_Xghr",
        "colab_type": "code",
        "outputId": "b3287cef-0511-4f83-834e-cf09deeaaa81",
        "colab": {
          "base_uri": "https://localhost:8080/",
          "height": 69
        }
      },
      "source": [
        "!ls"
      ],
      "execution_count": 0,
      "outputs": [
        {
          "output_type": "stream",
          "text": [
            "sample_data\t\t      soc-sign-bitcoinotc.csv\n",
            "soc-sign-bitcoinalpha.csv     soc-sign-bitcoinotc.csv.gz\n",
            "soc-sign-bitcoinalpha.csv.gz\n"
          ],
          "name": "stdout"
        }
      ]
    },
    {
      "cell_type": "code",
      "metadata": {
        "id": "uqxFldPmYLt_",
        "colab_type": "code",
        "outputId": "65b91f10-670c-45f0-9ec2-12e5053df6e7",
        "colab": {
          "base_uri": "https://localhost:8080/",
          "height": 572
        }
      },
      "source": [
        "!wget https://github.com/Jhird/TrustKeeper/raw/master/1_ORIGINAL_NETWORK.csv\n",
        "!wget https://github.com/Jhird/TrustKeeper/raw/master/2_TRIMMED_NETWORK.csv\n",
        "#!wget https://github.com/Jhird/TrustKeeper/blob/master/3_TEST_NETWORK.csv"
      ],
      "execution_count": 2,
      "outputs": [
        {
          "output_type": "stream",
          "text": [
            "--2019-05-27 15:12:11--  https://github.com/Jhird/TrustKeeper/raw/master/1_ORIGINAL_NETWORK.csv\n",
            "Resolving github.com (github.com)... 192.30.255.113\n",
            "Connecting to github.com (github.com)|192.30.255.113|:443... connected.\n",
            "HTTP request sent, awaiting response... 302 Found\n",
            "Location: https://raw.githubusercontent.com/Jhird/TrustKeeper/master/1_ORIGINAL_NETWORK.csv [following]\n",
            "--2019-05-27 15:12:11--  https://raw.githubusercontent.com/Jhird/TrustKeeper/master/1_ORIGINAL_NETWORK.csv\n",
            "Resolving raw.githubusercontent.com (raw.githubusercontent.com)... 151.101.0.133, 151.101.64.133, 151.101.128.133, ...\n",
            "Connecting to raw.githubusercontent.com (raw.githubusercontent.com)|151.101.0.133|:443... connected.\n",
            "HTTP request sent, awaiting response... 200 OK\n",
            "Length: 1973980 (1.9M) [text/plain]\n",
            "Saving to: ‘1_ORIGINAL_NETWORK.csv’\n",
            "\n",
            "\r1_ORIGINAL_NETWORK.   0%[                    ]       0  --.-KB/s               \r1_ORIGINAL_NETWORK. 100%[===================>]   1.88M  --.-KB/s    in 0.05s   \n",
            "\n",
            "2019-05-27 15:12:11 (35.8 MB/s) - ‘1_ORIGINAL_NETWORK.csv’ saved [1973980/1973980]\n",
            "\n",
            "--2019-05-27 15:12:14--  https://github.com/Jhird/TrustKeeper/raw/master/2_TRIMMED_NETWORK.csv\n",
            "Resolving github.com (github.com)... 192.30.255.113\n",
            "Connecting to github.com (github.com)|192.30.255.113|:443... connected.\n",
            "HTTP request sent, awaiting response... 302 Found\n",
            "Location: https://raw.githubusercontent.com/Jhird/TrustKeeper/master/2_TRIMMED_NETWORK.csv [following]\n",
            "--2019-05-27 15:12:14--  https://raw.githubusercontent.com/Jhird/TrustKeeper/master/2_TRIMMED_NETWORK.csv\n",
            "Resolving raw.githubusercontent.com (raw.githubusercontent.com)... 151.101.0.133, 151.101.64.133, 151.101.128.133, ...\n",
            "Connecting to raw.githubusercontent.com (raw.githubusercontent.com)|151.101.0.133|:443... connected.\n",
            "HTTP request sent, awaiting response... 200 OK\n",
            "Length: 1645113 (1.6M) [text/plain]\n",
            "Saving to: ‘2_TRIMMED_NETWORK.csv’\n",
            "\n",
            "2_TRIMMED_NETWORK.c 100%[===================>]   1.57M  --.-KB/s    in 0.05s   \n",
            "\n",
            "2019-05-27 15:12:14 (28.9 MB/s) - ‘2_TRIMMED_NETWORK.csv’ saved [1645113/1645113]\n",
            "\n"
          ],
          "name": "stdout"
        }
      ]
    },
    {
      "cell_type": "code",
      "metadata": {
        "id": "KxbILfHhbWw0",
        "colab_type": "code",
        "outputId": "5719719b-c5f0-4fd5-fc51-1711794147bb",
        "colab": {
          "base_uri": "https://localhost:8080/",
          "height": 35
        }
      },
      "source": [
        "!ls"
      ],
      "execution_count": 3,
      "outputs": [
        {
          "output_type": "stream",
          "text": [
            "1_ORIGINAL_NETWORK.csv\t2_TRIMMED_NETWORK.csv  sample_data\n"
          ],
          "name": "stdout"
        }
      ]
    },
    {
      "cell_type": "code",
      "metadata": {
        "id": "cGF7KOwXYQdc",
        "colab_type": "code",
        "colab": {}
      },
      "source": [
        "#Preprocessing the transaction data"
      ],
      "execution_count": 0,
      "outputs": []
    },
    {
      "cell_type": "code",
      "metadata": {
        "id": "AWU5Z5jXZMv-",
        "colab_type": "code",
        "outputId": "831a4035-fcc2-4db7-94f4-4ffb2f001ef3",
        "colab": {
          "base_uri": "https://localhost:8080/",
          "height": 202
        }
      },
      "source": [
        "trim_network = pd.read_csv('2_TRIMMED_NETWORK.csv')\n",
        "trim_network.head()"
      ],
      "execution_count": 5,
      "outputs": [
        {
          "output_type": "execute_result",
          "data": {
            "text/html": [
              "<div>\n",
              "<style scoped>\n",
              "    .dataframe tbody tr th:only-of-type {\n",
              "        vertical-align: middle;\n",
              "    }\n",
              "\n",
              "    .dataframe tbody tr th {\n",
              "        vertical-align: top;\n",
              "    }\n",
              "\n",
              "    .dataframe thead th {\n",
              "        text-align: right;\n",
              "    }\n",
              "</style>\n",
              "<table border=\"1\" class=\"dataframe\">\n",
              "  <thead>\n",
              "    <tr style=\"text-align: right;\">\n",
              "      <th></th>\n",
              "      <th>SOURCE</th>\n",
              "      <th>TARGET</th>\n",
              "      <th>RATING</th>\n",
              "      <th>TIMESTAMP</th>\n",
              "      <th>EPISODE</th>\n",
              "    </tr>\n",
              "  </thead>\n",
              "  <tbody>\n",
              "    <tr>\n",
              "      <th>0</th>\n",
              "      <td>35</td>\n",
              "      <td>3952</td>\n",
              "      <td>1</td>\n",
              "      <td>1.365623e+09</td>\n",
              "      <td>21958</td>\n",
              "    </tr>\n",
              "    <tr>\n",
              "      <th>1</th>\n",
              "      <td>2125</td>\n",
              "      <td>5379</td>\n",
              "      <td>-1</td>\n",
              "      <td>1.392045e+09</td>\n",
              "      <td>32086</td>\n",
              "    </tr>\n",
              "    <tr>\n",
              "      <th>2</th>\n",
              "      <td>5227</td>\n",
              "      <td>5854</td>\n",
              "      <td>1</td>\n",
              "      <td>1.417038e+09</td>\n",
              "      <td>35751</td>\n",
              "    </tr>\n",
              "    <tr>\n",
              "      <th>3</th>\n",
              "      <td>6013</td>\n",
              "      <td>13492</td>\n",
              "      <td>-1</td>\n",
              "      <td>1.393304e+09</td>\n",
              "      <td>32395</td>\n",
              "    </tr>\n",
              "    <tr>\n",
              "      <th>4</th>\n",
              "      <td>6013</td>\n",
              "      <td>13495</td>\n",
              "      <td>-1</td>\n",
              "      <td>1.392008e+09</td>\n",
              "      <td>32075</td>\n",
              "    </tr>\n",
              "  </tbody>\n",
              "</table>\n",
              "</div>"
            ],
            "text/plain": [
              "   SOURCE  TARGET  RATING     TIMESTAMP  EPISODE\n",
              "0      35    3952       1  1.365623e+09    21958\n",
              "1    2125    5379      -1  1.392045e+09    32086\n",
              "2    5227    5854       1  1.417038e+09    35751\n",
              "3    6013   13492      -1  1.393304e+09    32395\n",
              "4    6013   13495      -1  1.392008e+09    32075"
            ]
          },
          "metadata": {
            "tags": []
          },
          "execution_count": 5
        }
      ]
    },
    {
      "cell_type": "code",
      "metadata": {
        "id": "rRI_US3dZ01i",
        "colab_type": "code",
        "outputId": "fe6d74e4-7fcc-41d5-d510-549d202f7f15",
        "colab": {
          "base_uri": "https://localhost:8080/",
          "height": 35
        }
      },
      "source": [
        "trim_network.shape"
      ],
      "execution_count": 6,
      "outputs": [
        {
          "output_type": "execute_result",
          "data": {
            "text/plain": [
              "(49822, 5)"
            ]
          },
          "metadata": {
            "tags": []
          },
          "execution_count": 6
        }
      ]
    },
    {
      "cell_type": "code",
      "metadata": {
        "id": "rmvjomIaau3C",
        "colab_type": "code",
        "colab": {}
      },
      "source": [
        "#extract node features\n",
        "def GetNodeFeatures(GDF,n):\n",
        "    if n==0:\n",
        "        return ['in_degree','pos_in_edges','neg_in_edges','out_degree','pos_out_edges','neg_out_edges']\n",
        "    # Get sub-dataframes\n",
        "    outgoing = GDF[GDF['SOURCE']==n].copy().reset_index(drop=True)\n",
        "    incoming = GDF[GDF['TARGET']==n].copy().reset_index(drop=True)\n",
        "    \n",
        "    # Compute node degree (incoming)\n",
        "    in_degree = len(incoming)\n",
        "    \n",
        "    # Compute node degree (outgoing)\n",
        "    out_degree = len(outgoing)\n",
        "    \n",
        "    # Compute number of incoming nodes with positive ratings\n",
        "    pos_in_edges = len([i for i in incoming.RATING.values if i>0])\n",
        "    \n",
        "    # Computer number of incoming nodes with negative ratings\n",
        "    neg_in_edges = len([i for i in incoming.RATING.values if i<0])\n",
        "    \n",
        "    # Repeat for outgoing edges\n",
        "    pos_out_edges = len([i for i in outgoing.RATING.values if i>0])\n",
        "    \n",
        "    # Computer number of outgoing nodes with negative ratings\n",
        "    neg_out_edges = len([i for i in outgoing.RATING.values if i<0])\n",
        "    \n",
        "    return np.array([in_degree,pos_in_edges,neg_in_edges,out_degree,pos_out_edges,neg_out_edges])"
      ],
      "execution_count": 0,
      "outputs": []
    },
    {
      "cell_type": "code",
      "metadata": {
        "id": "xNI0sXi2b8he",
        "colab_type": "code",
        "colab": {}
      },
      "source": [
        "# Define list of nodes and sort it in ascending order\n",
        "nodes = list( set(trim_network['SOURCE']) | set(trim_network['TARGET']) )\n",
        "nodes.sort()"
      ],
      "execution_count": 0,
      "outputs": []
    },
    {
      "cell_type": "code",
      "metadata": {
        "id": "kU3p9cNScGQr",
        "colab_type": "code",
        "outputId": "9f1ea7bb-5c57-4bc7-fcb1-9ded09f46e2a",
        "colab": {
          "base_uri": "https://localhost:8080/",
          "height": 35
        }
      },
      "source": [
        "len(nodes)"
      ],
      "execution_count": 9,
      "outputs": [
        {
          "output_type": "execute_result",
          "data": {
            "text/plain": [
              "9664"
            ]
          },
          "metadata": {
            "tags": []
          },
          "execution_count": 9
        }
      ]
    },
    {
      "cell_type": "code",
      "metadata": {
        "id": "dAOEW6mQcIIn",
        "colab_type": "code",
        "colab": {}
      },
      "source": [
        "# The node feature matrix creation\n",
        "NF = np.zeros([len(nodes),6])\n",
        "for i,n in enumerate(nodes):\n",
        "    NF[i,:] = np.array(GetNodeFeatures(trim_network,n))"
      ],
      "execution_count": 0,
      "outputs": []
    },
    {
      "cell_type": "code",
      "metadata": {
        "id": "QRfyjUx-drns",
        "colab_type": "code",
        "colab": {}
      },
      "source": [
        "# Create a dataframe containing all these node features\n",
        "NF_df = pd.DataFrame(columns=GetNodeFeatures(trim_network,0),data=NF,index=nodes)\n",
        "NF_df.to_csv('trimmed_node_features.csv')"
      ],
      "execution_count": 0,
      "outputs": []
    },
    {
      "cell_type": "code",
      "metadata": {
        "id": "h-J-qJeUd02I",
        "colab_type": "code",
        "colab": {}
      },
      "source": [
        "NF_df = pd.read_csv('trimmed_node_features.csv',index_col=0)"
      ],
      "execution_count": 0,
      "outputs": []
    },
    {
      "cell_type": "code",
      "metadata": {
        "id": "OZ9Lr20NeVAI",
        "colab_type": "code",
        "outputId": "692644c7-afe4-43da-8bbf-58510a91d18b",
        "colab": {
          "base_uri": "https://localhost:8080/",
          "height": 202
        }
      },
      "source": [
        "NF_df.head()"
      ],
      "execution_count": 13,
      "outputs": [
        {
          "output_type": "execute_result",
          "data": {
            "text/html": [
              "<div>\n",
              "<style scoped>\n",
              "    .dataframe tbody tr th:only-of-type {\n",
              "        vertical-align: middle;\n",
              "    }\n",
              "\n",
              "    .dataframe tbody tr th {\n",
              "        vertical-align: top;\n",
              "    }\n",
              "\n",
              "    .dataframe thead th {\n",
              "        text-align: right;\n",
              "    }\n",
              "</style>\n",
              "<table border=\"1\" class=\"dataframe\">\n",
              "  <thead>\n",
              "    <tr style=\"text-align: right;\">\n",
              "      <th></th>\n",
              "      <th>in_degree</th>\n",
              "      <th>pos_in_edges</th>\n",
              "      <th>neg_in_edges</th>\n",
              "      <th>out_degree</th>\n",
              "      <th>pos_out_edges</th>\n",
              "      <th>neg_out_edges</th>\n",
              "    </tr>\n",
              "  </thead>\n",
              "  <tbody>\n",
              "    <tr>\n",
              "      <th>1</th>\n",
              "      <td>198.0</td>\n",
              "      <td>198.0</td>\n",
              "      <td>0.0</td>\n",
              "      <td>184.0</td>\n",
              "      <td>177.0</td>\n",
              "      <td>7.0</td>\n",
              "    </tr>\n",
              "    <tr>\n",
              "      <th>2</th>\n",
              "      <td>36.0</td>\n",
              "      <td>35.0</td>\n",
              "      <td>1.0</td>\n",
              "      <td>36.0</td>\n",
              "      <td>34.0</td>\n",
              "      <td>2.0</td>\n",
              "    </tr>\n",
              "    <tr>\n",
              "      <th>3</th>\n",
              "      <td>20.0</td>\n",
              "      <td>11.0</td>\n",
              "      <td>9.0</td>\n",
              "      <td>0.0</td>\n",
              "      <td>0.0</td>\n",
              "      <td>0.0</td>\n",
              "    </tr>\n",
              "    <tr>\n",
              "      <th>4</th>\n",
              "      <td>40.0</td>\n",
              "      <td>40.0</td>\n",
              "      <td>0.0</td>\n",
              "      <td>52.0</td>\n",
              "      <td>49.0</td>\n",
              "      <td>3.0</td>\n",
              "    </tr>\n",
              "    <tr>\n",
              "      <th>5</th>\n",
              "      <td>3.0</td>\n",
              "      <td>3.0</td>\n",
              "      <td>0.0</td>\n",
              "      <td>2.0</td>\n",
              "      <td>2.0</td>\n",
              "      <td>0.0</td>\n",
              "    </tr>\n",
              "  </tbody>\n",
              "</table>\n",
              "</div>"
            ],
            "text/plain": [
              "   in_degree  pos_in_edges  ...  pos_out_edges  neg_out_edges\n",
              "1      198.0         198.0  ...          177.0            7.0\n",
              "2       36.0          35.0  ...           34.0            2.0\n",
              "3       20.0          11.0  ...            0.0            0.0\n",
              "4       40.0          40.0  ...           49.0            3.0\n",
              "5        3.0           3.0  ...            2.0            0.0\n",
              "\n",
              "[5 rows x 6 columns]"
            ]
          },
          "metadata": {
            "tags": []
          },
          "execution_count": 13
        }
      ]
    },
    {
      "cell_type": "code",
      "metadata": {
        "id": "7MMvHOvket8q",
        "colab_type": "code",
        "colab": {}
      },
      "source": [
        "f = open('trimmed_network.edgelist','w')\n",
        "for i in range(len(trim_network)):\n",
        "    s = str(trim_network['SOURCE'][i])\n",
        "    t = str(trim_network['TARGET'][i])\n",
        "    f.write(s+' '+t+'\\n')\n",
        "f.close()"
      ],
      "execution_count": 0,
      "outputs": []
    },
    {
      "cell_type": "code",
      "metadata": {
        "id": "fZs8pLgqfQ5M",
        "colab_type": "code",
        "outputId": "9cd90089-f45e-416b-df80-17166cc212ca",
        "colab": {
          "base_uri": "https://localhost:8080/",
          "height": 35
        }
      },
      "source": [
        "len(trim_network)"
      ],
      "execution_count": 15,
      "outputs": [
        {
          "output_type": "execute_result",
          "data": {
            "text/plain": [
              "49822"
            ]
          },
          "metadata": {
            "tags": []
          },
          "execution_count": 15
        }
      ]
    },
    {
      "cell_type": "code",
      "metadata": {
        "id": "mO2QHrRsfRac",
        "colab_type": "code",
        "outputId": "7de5e204-66b5-47a6-e51f-8009ad59a6fa",
        "colab": {
          "base_uri": "https://localhost:8080/",
          "height": 104
        }
      },
      "source": [
        "!git clone https://github.com/Jhird/TrustKeeper.git"
      ],
      "execution_count": 16,
      "outputs": [
        {
          "output_type": "stream",
          "text": [
            "Cloning into 'TrustKeeper'...\n",
            "remote: Enumerating objects: 134, done.\u001b[K\n",
            "remote: Total 134 (delta 0), reused 0 (delta 0), pack-reused 134\u001b[K\n",
            "Receiving objects: 100% (134/134), 9.73 MiB | 22.05 MiB/s, done.\n",
            "Resolving deltas: 100% (43/43), done.\n"
          ],
          "name": "stdout"
        }
      ]
    },
    {
      "cell_type": "code",
      "metadata": {
        "id": "YV--zltMgkC_",
        "colab_type": "code",
        "outputId": "e498aff5-f009-4a0b-b838-43919dee6836",
        "colab": {
          "base_uri": "https://localhost:8080/",
          "height": 52
        }
      },
      "source": [
        "!ls"
      ],
      "execution_count": 17,
      "outputs": [
        {
          "output_type": "stream",
          "text": [
            "1_ORIGINAL_NETWORK.csv\tsample_data\t\t  trimmed_node_features.csv\n",
            "2_TRIMMED_NETWORK.csv\ttrimmed_network.edgelist  TrustKeeper\n"
          ],
          "name": "stdout"
        }
      ]
    },
    {
      "cell_type": "code",
      "metadata": {
        "id": "OcQfxI_Hglx-",
        "colab_type": "code",
        "outputId": "1dccd238-0189-432d-c0bd-8177ba8e4c3c",
        "colab": {
          "base_uri": "https://localhost:8080/",
          "height": 919
        }
      },
      "source": [
        "!python ./TrustKeeper/node2vec/src/main.py --input ./trimmed_network.edgelist  \\\n",
        "                               --output ./trimmed_network.emb \\\n",
        "                               --dimensions 14 --num-walks 25 --iter 15"
      ],
      "execution_count": 24,
      "outputs": [
        {
          "output_type": "stream",
          "text": [
            "Walk iteration:\n",
            "1 / 25\n",
            "2 / 25\n",
            "3 / 25\n",
            "4 / 25\n",
            "5 / 25\n",
            "6 / 25\n",
            "7 / 25\n",
            "8 / 25\n",
            "9 / 25\n",
            "10 / 25\n",
            "11 / 25\n",
            "12 / 25\n",
            "13 / 25\n",
            "14 / 25\n",
            "15 / 25\n",
            "16 / 25\n",
            "17 / 25\n",
            "18 / 25\n",
            "19 / 25\n",
            "20 / 25\n",
            "21 / 25\n",
            "22 / 25\n",
            "23 / 25\n",
            "24 / 25\n",
            "25 / 25\n",
            "Traceback (most recent call last):\n",
            "  File \"./TrustKeeper/node2vec/src/main.py\", line 104, in <module>\n",
            "    main(args)\n",
            "  File \"./TrustKeeper/node2vec/src/main.py\", line 100, in main\n",
            "    learn_embeddings(walks)\n",
            "  File \"./TrustKeeper/node2vec/src/main.py\", line 87, in learn_embeddings\n",
            "    model = Word2Vec(walks, size=args.dimensions, window=args.window_size, min_count=0, sg=1, workers=args.workers, iter=args.iter)\n",
            "  File \"/usr/local/lib/python2.7/dist-packages/gensim/models/word2vec.py\", line 767, in __init__\n",
            "    fast_version=FAST_VERSION)\n",
            "  File \"/usr/local/lib/python2.7/dist-packages/gensim/models/base_any2vec.py\", line 763, in __init__\n",
            "    end_alpha=self.min_alpha, compute_loss=compute_loss)\n",
            "  File \"/usr/local/lib/python2.7/dist-packages/gensim/models/word2vec.py\", line 892, in train\n",
            "    queue_factor=queue_factor, report_delay=report_delay, compute_loss=compute_loss, callbacks=callbacks)\n",
            "  File \"/usr/local/lib/python2.7/dist-packages/gensim/models/base_any2vec.py\", line 1081, in train\n",
            "    **kwargs)\n",
            "  File \"/usr/local/lib/python2.7/dist-packages/gensim/models/base_any2vec.py\", line 553, in train\n",
            "    total_words=total_words, queue_factor=queue_factor, report_delay=report_delay)\n",
            "  File \"/usr/local/lib/python2.7/dist-packages/gensim/models/base_any2vec.py\", line 489, in _train_epoch\n",
            "    report_delay=report_delay, is_corpus_file_mode=False)\n",
            "  File \"/usr/local/lib/python2.7/dist-packages/gensim/models/base_any2vec.py\", line 346, in _log_epoch_progress\n",
            "    report = progress_queue.get()  # blocks if workers too slow\n",
            "  File \"/usr/lib/python2.7/Queue.py\", line 168, in get\n",
            "    self.not_empty.wait()\n",
            "  File \"/usr/lib/python2.7/threading.py\", line 340, in wait\n",
            "    waiter.acquire()\n",
            "KeyboardInterrupt\n"
          ],
          "name": "stdout"
        }
      ]
    },
    {
      "cell_type": "code",
      "metadata": {
        "id": "6LYLgKs3pKR3",
        "colab_type": "code",
        "outputId": "f9606dcc-82ef-4edb-c507-c9f0fc078d02",
        "colab": {
          "base_uri": "https://localhost:8080/",
          "height": 153
        }
      },
      "source": [
        "!ls"
      ],
      "execution_count": 0,
      "outputs": [
        {
          "output_type": "stream",
          "text": [
            "1_ORIGINAL_NETWORK.csv\t      soc-sign-bitcoinalpha.csv.gz.1\n",
            "1_ORIGINAL_NETWORK.csv.1      soc-sign-bitcoinotc.csv\n",
            "2_TRIMMED_NETWORK.csv\t      soc-sign-bitcoinotc.csv.gz\n",
            "2_TRIMMED_NETWORK.csv.1       soc-sign-bitcoinotc.csv.gz.1\n",
            "node2vec\t\t      trimmed_network.edgelist\n",
            "sample_data\t\t      trimmed_network.emb\n",
            "soc-sign-bitcoinalpha.csv     trimmed_node_features.csv\n",
            "soc-sign-bitcoinalpha.csv.gz  TrustKeeper\n"
          ],
          "name": "stdout"
        }
      ]
    },
    {
      "cell_type": "code",
      "metadata": {
        "id": "hIGaXiYbg13o",
        "colab_type": "code",
        "colab": {}
      },
      "source": [
        "#format dictionary like node : embedding\n",
        "n = []\n",
        "e = []\n",
        "with open('./TrustKeeper/trimmed_network.emb') as fin:\n",
        "    for line in fin:\n",
        "        node_emb = line.strip().split()\n",
        "        n.append(node_emb[0])\n",
        "        e.append(node_emb[1:])"
      ],
      "execution_count": 0,
      "outputs": []
    },
    {
      "cell_type": "code",
      "metadata": {
        "id": "mLpCRoZ20fFK",
        "colab_type": "code",
        "colab": {
          "base_uri": "https://localhost:8080/",
          "height": 35
        },
        "outputId": "d2cd549a-4533-4a6a-b52c-53e9fb0527b3"
      },
      "source": [
        "len(e)"
      ],
      "execution_count": 31,
      "outputs": [
        {
          "output_type": "execute_result",
          "data": {
            "text/plain": [
              "9665"
            ]
          },
          "metadata": {
            "tags": []
          },
          "execution_count": 31
        }
      ]
    },
    {
      "cell_type": "code",
      "metadata": {
        "id": "6Bbcc1gpj3XV",
        "colab_type": "code",
        "colab": {
          "base_uri": "https://localhost:8080/",
          "height": 35
        },
        "outputId": "7e1a907a-754d-4a78-cfe6-c97f0f26b55c"
      },
      "source": [
        "n = n[1:]\n",
        "n = [int(i) for i in n]\n",
        "embs = np.zeros([len(e)-1,14])\n",
        "for i in range(1,len(e)):\n",
        "    embs[i-1] = e[i]\n",
        "embs.shape"
      ],
      "execution_count": 19,
      "outputs": [
        {
          "output_type": "execute_result",
          "data": {
            "text/plain": [
              "(9664, 14)"
            ]
          },
          "metadata": {
            "tags": []
          },
          "execution_count": 19
        }
      ]
    },
    {
      "cell_type": "code",
      "metadata": {
        "id": "Lgux42cLnG2H",
        "colab_type": "code",
        "colab": {}
      },
      "source": [
        "#2d projection using t-sne\n",
        "from sklearn.manifold import TSNE\n",
        "tsne = TSNE(n_components=2, init='pca', random_state=0)\n",
        "proj = tsne.fit_transform(embs)\n",
        "np.save('trimmed_network_tSNE_projection.npy',proj)"
      ],
      "execution_count": 0,
      "outputs": []
    },
    {
      "cell_type": "code",
      "metadata": {
        "id": "5oJsr-gx2wSN",
        "colab_type": "code",
        "colab": {
          "base_uri": "https://localhost:8080/",
          "height": 625
        },
        "outputId": "d12a678e-ecd6-4450-8b7f-eddf9f804537"
      },
      "source": [
        "#Plot\n",
        "proj = np.load('trimmed_network_tSNE_projection.npy')\n",
        "\n",
        "alpha_nodes = []\n",
        "otc_nodes = []\n",
        "for i in range(len(n)):\n",
        "    if n[i] > 6005:\n",
        "        alpha_nodes.append(i)\n",
        "    else:\n",
        "        otc_nodes.append(i)\n",
        "        \n",
        "plt.figure(figsize=(10,10))\n",
        "alpha = proj[alpha_nodes,:]\n",
        "otc = proj[otc_nodes,:]\n",
        "plt.scatter(alpha[:,0],alpha[:,1],c='y',label='Bitcoin Alpha')\n",
        "plt.scatter(otc[:,0],otc[:,1],c='r',label='Bitcoin OTC')\n",
        "plt.legend()\n",
        "plt.title('2-dimensional mapping with t-SNE of Bitcoin network nodes with Node2Vec')"
      ],
      "execution_count": 23,
      "outputs": [
        {
          "output_type": "execute_result",
          "data": {
            "text/plain": [
              "Text(0.5,1,'2-dimensional mapping with t-SNE of Bitcoin network nodes with Node2Vec')"
            ]
          },
          "metadata": {
            "tags": []
          },
          "execution_count": 23
        },
        {
          "output_type": "display_data",
          "data": {
            "image/png": "[encoded data removed]",
            "text/plain": [
              "<Figure size 720x720 with 1 Axes>"
            ]
          },
          "metadata": {
            "tags": []
          }
        }
      ]
    },
    {
      "cell_type": "code",
      "metadata": {
        "id": "TPT-w3K03ri5",
        "colab_type": "code",
        "colab": {
          "base_uri": "https://localhost:8080/",
          "height": 35
        },
        "outputId": "cdb759ed-647b-4806-97ee-0b17ea99b3bc"
      },
      "source": [
        "#Feature matrix creation\n",
        "NF_matrix = np.zeros([len(n),20]) #14 Node2Vec features + 6 features extracted from the rating network\n",
        "for i in range(len(n)):\n",
        "    NF_matrix[i] = np.concatenate([embs[i],np.log2(NF_df.loc[n[i]].values + 1)])\n",
        "NF_matrix.shape"
      ],
      "execution_count": 24,
      "outputs": [
        {
          "output_type": "execute_result",
          "data": {
            "text/plain": [
              "(9664, 20)"
            ]
          },
          "metadata": {
            "tags": []
          },
          "execution_count": 24
        }
      ]
    },
    {
      "cell_type": "code",
      "metadata": {
        "id": "UNJdT-7Z35JV",
        "colab_type": "code",
        "colab": {}
      },
      "source": [
        "#normalizing feature matrix\n",
        "NF_matrix_mean = np.mean(NF_matrix,axis=0)\n",
        "NF_matrix_std = np.std(NF_matrix,axis=0)\n",
        "NF_matrix_norm = ( NF_matrix - NF_matrix_mean ) / ( NF_matrix_std )"
      ],
      "execution_count": 0,
      "outputs": []
    },
    {
      "cell_type": "code",
      "metadata": {
        "id": "xMkwrUiP4Aqn",
        "colab_type": "code",
        "colab": {}
      },
      "source": [
        "NF_matrix_std.shape"
      ],
      "execution_count": 0,
      "outputs": []
    },
    {
      "cell_type": "code",
      "metadata": {
        "id": "8pOC60Jq4PdQ",
        "colab_type": "code",
        "colab": {
          "base_uri": "https://localhost:8080/",
          "height": 222
        },
        "outputId": "49ae6b74-6bb6-42dc-f103-bc1f8a0f1994"
      },
      "source": [
        "emb_df_norm = pd.DataFrame(columns=list(range(1,21)),index=n,data=NF_matrix_norm)\n",
        "emb_df_norm.head()"
      ],
      "execution_count": 31,
      "outputs": [
        {
          "output_type": "execute_result",
          "data": {
            "text/html": [
              "<div>\n",
              "<style scoped>\n",
              "    .dataframe tbody tr th:only-of-type {\n",
              "        vertical-align: middle;\n",
              "    }\n",
              "\n",
              "    .dataframe tbody tr th {\n",
              "        vertical-align: top;\n",
              "    }\n",
              "\n",
              "    .dataframe thead th {\n",
              "        text-align: right;\n",
              "    }\n",
              "</style>\n",
              "<table border=\"1\" class=\"dataframe\">\n",
              "  <thead>\n",
              "    <tr style=\"text-align: right;\">\n",
              "      <th></th>\n",
              "      <th>1</th>\n",
              "      <th>2</th>\n",
              "      <th>3</th>\n",
              "      <th>4</th>\n",
              "      <th>5</th>\n",
              "      <th>6</th>\n",
              "      <th>7</th>\n",
              "      <th>8</th>\n",
              "      <th>9</th>\n",
              "      <th>10</th>\n",
              "      <th>11</th>\n",
              "      <th>12</th>\n",
              "      <th>13</th>\n",
              "      <th>14</th>\n",
              "      <th>15</th>\n",
              "      <th>16</th>\n",
              "      <th>17</th>\n",
              "      <th>18</th>\n",
              "      <th>19</th>\n",
              "      <th>20</th>\n",
              "    </tr>\n",
              "  </thead>\n",
              "  <tbody>\n",
              "    <tr>\n",
              "      <th>35</th>\n",
              "      <td>-1.774256</td>\n",
              "      <td>-0.448314</td>\n",
              "      <td>0.047397</td>\n",
              "      <td>0.612565</td>\n",
              "      <td>0.797896</td>\n",
              "      <td>-0.789905</td>\n",
              "      <td>-0.051981</td>\n",
              "      <td>-0.121641</td>\n",
              "      <td>-0.866701</td>\n",
              "      <td>0.772711</td>\n",
              "      <td>-0.960294</td>\n",
              "      <td>-0.634862</td>\n",
              "      <td>-0.391693</td>\n",
              "      <td>0.070921</td>\n",
              "      <td>5.995989</td>\n",
              "      <td>5.966601</td>\n",
              "      <td>-0.403738</td>\n",
              "      <td>5.764529</td>\n",
              "      <td>5.928494</td>\n",
              "      <td>5.244485</td>\n",
              "    </tr>\n",
              "    <tr>\n",
              "      <th>6006</th>\n",
              "      <td>-0.501574</td>\n",
              "      <td>-0.084692</td>\n",
              "      <td>0.723285</td>\n",
              "      <td>-1.407241</td>\n",
              "      <td>-0.649710</td>\n",
              "      <td>1.117009</td>\n",
              "      <td>0.567946</td>\n",
              "      <td>0.082475</td>\n",
              "      <td>-0.241229</td>\n",
              "      <td>-1.279825</td>\n",
              "      <td>0.483483</td>\n",
              "      <td>-0.937666</td>\n",
              "      <td>-1.084376</td>\n",
              "      <td>0.990163</td>\n",
              "      <td>5.628302</td>\n",
              "      <td>5.607510</td>\n",
              "      <td>-0.403738</td>\n",
              "      <td>5.253367</td>\n",
              "      <td>5.415542</td>\n",
              "      <td>2.245152</td>\n",
              "    </tr>\n",
              "    <tr>\n",
              "      <th>2642</th>\n",
              "      <td>-1.139167</td>\n",
              "      <td>-0.513084</td>\n",
              "      <td>1.118884</td>\n",
              "      <td>0.059454</td>\n",
              "      <td>-0.080315</td>\n",
              "      <td>-0.162173</td>\n",
              "      <td>0.315040</td>\n",
              "      <td>0.686051</td>\n",
              "      <td>0.649060</td>\n",
              "      <td>1.255844</td>\n",
              "      <td>-0.181627</td>\n",
              "      <td>0.228191</td>\n",
              "      <td>0.024559</td>\n",
              "      <td>-0.302619</td>\n",
              "      <td>5.577683</td>\n",
              "      <td>5.554465</td>\n",
              "      <td>1.132302</td>\n",
              "      <td>5.057479</td>\n",
              "      <td>5.198008</td>\n",
              "      <td>4.509349</td>\n",
              "    </tr>\n",
              "    <tr>\n",
              "      <th>2125</th>\n",
              "      <td>0.168152</td>\n",
              "      <td>0.876179</td>\n",
              "      <td>-0.513470</td>\n",
              "      <td>-0.215777</td>\n",
              "      <td>-0.248220</td>\n",
              "      <td>-0.916373</td>\n",
              "      <td>-0.365312</td>\n",
              "      <td>0.893897</td>\n",
              "      <td>0.826803</td>\n",
              "      <td>0.918575</td>\n",
              "      <td>-0.683717</td>\n",
              "      <td>1.040111</td>\n",
              "      <td>1.754360</td>\n",
              "      <td>-0.239251</td>\n",
              "      <td>4.613721</td>\n",
              "      <td>4.616648</td>\n",
              "      <td>-0.403738</td>\n",
              "      <td>5.057479</td>\n",
              "      <td>4.230008</td>\n",
              "      <td>12.063567</td>\n",
              "    </tr>\n",
              "    <tr>\n",
              "      <th>1810</th>\n",
              "      <td>0.072147</td>\n",
              "      <td>0.400560</td>\n",
              "      <td>0.326883</td>\n",
              "      <td>-0.186649</td>\n",
              "      <td>1.174607</td>\n",
              "      <td>-0.715021</td>\n",
              "      <td>-0.125926</td>\n",
              "      <td>1.679218</td>\n",
              "      <td>-0.296529</td>\n",
              "      <td>0.525661</td>\n",
              "      <td>-0.017292</td>\n",
              "      <td>0.255513</td>\n",
              "      <td>0.899269</td>\n",
              "      <td>0.118267</td>\n",
              "      <td>5.310770</td>\n",
              "      <td>5.124245</td>\n",
              "      <td>7.598189</td>\n",
              "      <td>5.026762</td>\n",
              "      <td>4.650978</td>\n",
              "      <td>11.015487</td>\n",
              "    </tr>\n",
              "  </tbody>\n",
              "</table>\n",
              "</div>"
            ],
            "text/plain": [
              "            1         2         3   ...        18        19         20\n",
              "35   -1.774256 -0.448314  0.047397  ...  5.764529  5.928494   5.244485\n",
              "6006 -0.501574 -0.084692  0.723285  ...  5.253367  5.415542   2.245152\n",
              "2642 -1.139167 -0.513084  1.118884  ...  5.057479  5.198008   4.509349\n",
              "2125  0.168152  0.876179 -0.513470  ...  5.057479  4.230008  12.063567\n",
              "1810  0.072147  0.400560  0.326883  ...  5.026762  4.650978  11.015487\n",
              "\n",
              "[5 rows x 20 columns]"
            ]
          },
          "metadata": {
            "tags": []
          },
          "execution_count": 31
        }
      ]
    },
    {
      "cell_type": "code",
      "metadata": {
        "id": "u5jCDHKY4g9L",
        "colab_type": "code",
        "colab": {}
      },
      "source": [
        "emb_df_norm.to_csv('./trimmed_node_embeddings_mean_normalized.csv')"
      ],
      "execution_count": 0,
      "outputs": []
    },
    {
      "cell_type": "code",
      "metadata": {
        "id": "4JGhj3M04nif",
        "colab_type": "code",
        "colab": {}
      },
      "source": [
        "emb_df_norm = pd.read_csv('./trimmed_node_embeddings_mean_normalized.csv', index_col=0)"
      ],
      "execution_count": 0,
      "outputs": []
    },
    {
      "cell_type": "code",
      "metadata": {
        "id": "Ydm_D4vq4zif",
        "colab_type": "code",
        "colab": {}
      },
      "source": [
        "#X, y prep\n",
        "X = np.zeros([len(trim_network),40])\n",
        "y = np.zeros(len(trim_network))\n",
        "for i in range(len(trim_network)):\n",
        "    s = trim_network['SOURCE'][i]\n",
        "    t = trim_network['TARGET'][i]\n",
        "    r = trim_network['RATING'][i]\n",
        "    left = emb_df_norm.loc[s,:].values\n",
        "    right = emb_df_norm.loc[t,:].values\n",
        "    X[i,:] = np.concatenate([left,right])\n",
        "    if r>0:\n",
        "        y[i] = 0 # If not fraud\n",
        "    else:\n",
        "        y[i] = 1 # If fraud"
      ],
      "execution_count": 0,
      "outputs": []
    },
    {
      "cell_type": "code",
      "metadata": {
        "id": "nuctDIP95Bk9",
        "colab_type": "code",
        "colab": {
          "base_uri": "https://localhost:8080/",
          "height": 208
        },
        "outputId": "937a41dc-4102-41da-e596-2a1be001ce16"
      },
      "source": [
        "!wget https://raw.githubusercontent.com/Jhird/TrustKeeper/master/3_TEST_NETWORK.csv"
      ],
      "execution_count": 34,
      "outputs": [
        {
          "output_type": "stream",
          "text": [
            "--2019-05-27 15:25:40--  https://raw.githubusercontent.com/Jhird/TrustKeeper/master/3_TEST_NETWORK.csv\n",
            "Resolving raw.githubusercontent.com (raw.githubusercontent.com)... 151.101.0.133, 151.101.64.133, 151.101.128.133, ...\n",
            "Connecting to raw.githubusercontent.com (raw.githubusercontent.com)|151.101.0.133|:443... connected.\n",
            "HTTP request sent, awaiting response... 200 OK\n",
            "Length: 328790 (321K) [text/plain]\n",
            "Saving to: ‘3_TEST_NETWORK.csv’\n",
            "\n",
            "\r3_TEST_NETWORK.csv    0%[                    ]       0  --.-KB/s               \r3_TEST_NETWORK.csv  100%[===================>] 321.08K  --.-KB/s    in 0.03s   \n",
            "\n",
            "2019-05-27 15:25:41 (10.4 MB/s) - ‘3_TEST_NETWORK.csv’ saved [328790/328790]\n",
            "\n"
          ],
          "name": "stdout"
        }
      ]
    },
    {
      "cell_type": "code",
      "metadata": {
        "id": "R1lnxE6G5ZIr",
        "colab_type": "code",
        "colab": {
          "base_uri": "https://localhost:8080/",
          "height": 104
        },
        "outputId": "b95bf876-e410-497b-cccf-3af38b93a075"
      },
      "source": [
        "!ls"
      ],
      "execution_count": 35,
      "outputs": [
        {
          "output_type": "stream",
          "text": [
            "1_ORIGINAL_NETWORK.csv\t  trimmed_network_tSNE_projection.npy\n",
            "2_TRIMMED_NETWORK.csv\t  trimmed_node_embeddings_mean_normalized.csv\n",
            "3_TEST_NETWORK.csv\t  trimmed_node_features.csv\n",
            "sample_data\t\t  TrustKeeper\n",
            "trimmed_network.edgelist\n"
          ],
          "name": "stdout"
        }
      ]
    },
    {
      "cell_type": "code",
      "metadata": {
        "id": "PIcySvEd5cQz",
        "colab_type": "code",
        "colab": {}
      },
      "source": [
        "val_network = pd.read_csv('3_TEST_NETWORK.csv')\n",
        "X_val = np.zeros([len(val_network),40])\n",
        "y_val = np.zeros(len(val_network))\n",
        "for i in range(len(val_network)):\n",
        "    s = val_network['SOURCE'][i]\n",
        "    t = val_network['TARGET'][i]\n",
        "    r = val_network['RATING'][i]\n",
        "    left = emb_df_norm.loc[s,:].values\n",
        "    right = emb_df_norm.loc[t,:].values\n",
        "    X_val[i,:] = np.concatenate([left,right])\n",
        "    if r>0:\n",
        "        y_val[i] = 0 \n",
        "    else:\n",
        "        y_val[i] = 1 # fraud (class imbalance)"
      ],
      "execution_count": 0,
      "outputs": []
    },
    {
      "cell_type": "code",
      "metadata": {
        "id": "PTBsIayK5ja4",
        "colab_type": "code",
        "colab": {
          "base_uri": "https://localhost:8080/",
          "height": 35
        },
        "outputId": "68b613e4-37b9-4597-ecba-69077e7bc4c7"
      },
      "source": [
        "from collections import Counter\n",
        "Counter(y)"
      ],
      "execution_count": 38,
      "outputs": [
        {
          "output_type": "execute_result",
          "data": {
            "text/plain": [
              "Counter({0.0: 45604, 1.0: 4218})"
            ]
          },
          "metadata": {
            "tags": []
          },
          "execution_count": 38
        }
      ]
    },
    {
      "cell_type": "code",
      "metadata": {
        "id": "-ASJOY-E5xtO",
        "colab_type": "code",
        "colab": {
          "base_uri": "https://localhost:8080/",
          "height": 35
        },
        "outputId": "4f348a40-7e7a-4226-c5c7-1f3f82b0b4ec"
      },
      "source": [
        "Counter(y_val)"
      ],
      "execution_count": 39,
      "outputs": [
        {
          "output_type": "execute_result",
          "data": {
            "text/plain": [
              "Counter({0.0: 9075, 1.0: 881})"
            ]
          },
          "metadata": {
            "tags": []
          },
          "execution_count": 39
        }
      ]
    },
    {
      "cell_type": "code",
      "metadata": {
        "id": "QwciMQ-G51QU",
        "colab_type": "code",
        "colab": {
          "base_uri": "https://localhost:8080/",
          "height": 35
        },
        "outputId": "4204ae98-39a4-4d87-e418-e5f597c9e7e7"
      },
      "source": [
        "# Machine Learning\n",
        "from sklearn.model_selection import train_test_split\n",
        "from sklearn.preprocessing import StandardScaler, RobustScaler\n",
        "from sklearn.model_selection import cross_val_score\n",
        "from sklearn.model_selection import KFold\n",
        "from sklearn.preprocessing import LabelEncoder\n",
        "from sklearn.pipeline import Pipeline\n",
        "from sklearn.linear_model import LogisticRegression\n",
        "from sklearn import metrics\n",
        "from sklearn.metrics import confusion_matrix as cm\n",
        "from sklearn.metrics import classification_report\n",
        "from sklearn.metrics import roc_auc_score\n",
        "from sklearn.metrics import roc_curve\n",
        "\n",
        "# Deep Learning\n",
        "import keras\n",
        "from keras.models import Sequential\n",
        "from keras.layers import Dense\n",
        "from keras.models import load_model\n",
        "from keras.wrappers.scikit_learn import KerasClassifier\n",
        "from keras.layers import Input, Convolution2D, MaxPooling2D, Dense, Dropout, Flatten\n",
        "from keras.utils import np_utils\n",
        "from keras.layers.merge import Concatenate"
      ],
      "execution_count": 40,
      "outputs": [
        {
          "output_type": "stream",
          "text": [
            "Using TensorFlow backend.\n"
          ],
          "name": "stderr"
        }
      ]
    },
    {
      "cell_type": "code",
      "metadata": {
        "id": "WSHMnjmU58fB",
        "colab_type": "code",
        "colab": {}
      },
      "source": [
        "# Create train and test sets\n",
        "x_train, x_test, y_train, y_test = train_test_split(X,y,test_size= 0.2,random_state=0)\n",
        "def CreateSample(frac=0.8):\n",
        "    fraud_indices = np.array([i for i in range(len(y_train)) if y_train[i]==1])\n",
        "    not_fraud_indices = np.array([i for i in range(len(y_train)) if y_train[i]==0])\n",
        "    sample_size = int(np.round( len(fraud_indices) * frac ))\n",
        "    fraud_sample = np.random.randint(0,len(fraud_indices),sample_size) \n",
        "    not_fraud_sample = np.random.randint(0,len(not_fraud_indices),sample_size)\n",
        "    y_sample = np.concatenate([y_train[fraud_indices][fraud_sample],y_train[not_fraud_indices[not_fraud_sample]]])\n",
        "    x_sample = np.concatenate([x_train[fraud_indices][fraud_sample],x_train[not_fraud_indices[not_fraud_sample]]])\n",
        "    return x_sample,y_sample"
      ],
      "execution_count": 0,
      "outputs": []
    },
    {
      "cell_type": "code",
      "metadata": {
        "id": "DYU8SXHg6VTO",
        "colab_type": "code",
        "colab": {}
      },
      "source": [
        "def plot_confusion_matrix(cm, classes,\n",
        "                          normalize=False,\n",
        "                          title='Confusion matrix',\n",
        "                          cmap=plt.cm.Blues):\n",
        "    \"\"\"\n",
        "    This function prints and plots the confusion matrix.\n",
        "    Normalization can be applied by setting `normalize=True`.\n",
        "    \"\"\"\n",
        "    if normalize:\n",
        "        cm = cm.astype('float') / cm.sum(axis=1)[:, np.newaxis]\n",
        "        print(\"Normalized confusion matrix\")\n",
        "    else:\n",
        "        print('Confusion matrix, without normalization')\n",
        "\n",
        "    print(cm)\n",
        "\n",
        "    plt.imshow(cm, interpolation='nearest', cmap=cmap)\n",
        "    plt.title(title)\n",
        "    plt.colorbar()\n",
        "    tick_marks = np.arange(len(classes))\n",
        "    plt.xticks(tick_marks, classes, rotation=45)\n",
        "    plt.yticks(tick_marks, classes)\n",
        "\n",
        "    fmt = '.2f' if normalize else 'd'\n",
        "    thresh = cm.max() / 2.\n",
        "    for i, j in itertools.product(range(cm.shape[0]), range(cm.shape[1])):\n",
        "        plt.text(j, i, format(cm[i, j], fmt),\n",
        "                 horizontalalignment=\"center\",\n",
        "                 color=\"white\" if cm[i, j] > thresh else \"black\")\n",
        "\n",
        "    plt.ylabel('True label')\n",
        "    plt.xlabel('Predicted label')\n",
        "    plt.tight_layout()"
      ],
      "execution_count": 0,
      "outputs": []
    },
    {
      "cell_type": "code",
      "metadata": {
        "id": "3FeSTLNr6g-z",
        "colab_type": "code",
        "colab": {
          "base_uri": "https://localhost:8080/",
          "height": 89
        },
        "outputId": "c92594a9-2ad2-4b56-d03b-fbf908ffa2bc"
      },
      "source": [
        "#Trustkeeper model\n",
        "input_size = 40 # Features from X matrix\n",
        "\n",
        "M1 = Sequential()\n",
        "M1.add(Dense(128, activation='relu', input_shape=(input_size,)))\n",
        "M1.add(Dense(128, activation='relu'))\n",
        "M1.add(Dense(64, activation='relu'))\n",
        "M1.add(Dense(32, activation='relu'))\n",
        "M1.add(Dense(16, activation='relu'))\n",
        "M1.add(Dense(1,activation='sigmoid'))\n",
        "nadam = keras.optimizers.Nadam(lr=1e-6, beta_1=0.9, beta_2=0.999, epsilon=None, schedule_decay=0.004)\n",
        "\n",
        "M1.compile(loss='binary_crossentropy',\n",
        "              optimizer=nadam,\n",
        "              metrics=['accuracy'])\n",
        "\n",
        "# Define parameters\n",
        "Nepochs = 10"
      ],
      "execution_count": 43,
      "outputs": [
        {
          "output_type": "stream",
          "text": [
            "WARNING:tensorflow:From /usr/local/lib/python2.7/dist-packages/tensorflow/python/framework/op_def_library.py:263: colocate_with (from tensorflow.python.framework.ops) is deprecated and will be removed in a future version.\n",
            "Instructions for updating:\n",
            "Colocations handled automatically by placer.\n"
          ],
          "name": "stdout"
        }
      ]
    },
    {
      "cell_type": "code",
      "metadata": {
        "id": "VN3g1kA961LX",
        "colab_type": "code",
        "colab": {
          "base_uri": "https://localhost:8080/",
          "height": 35
        },
        "outputId": "2781b273-e4ba-409a-9f65-780ffc54242a"
      },
      "source": [
        "sample_x,sample_y = CreateSample()\n",
        "sample_x.shape"
      ],
      "execution_count": 44,
      "outputs": [
        {
          "output_type": "execute_result",
          "data": {
            "text/plain": [
              "(5396, 40)"
            ]
          },
          "metadata": {
            "tags": []
          },
          "execution_count": 44
        }
      ]
    },
    {
      "cell_type": "code",
      "metadata": {
        "id": "96leTbos69Hb",
        "colab_type": "code",
        "colab": {
          "base_uri": "https://localhost:8080/",
          "height": 35
        },
        "outputId": "5eadd745-656c-48fb-dd9d-c4e0a61c7021"
      },
      "source": [
        "Counter(y_train)"
      ],
      "execution_count": 46,
      "outputs": [
        {
          "output_type": "execute_result",
          "data": {
            "text/plain": [
              "Counter({0.0: 36485, 1.0: 3372})"
            ]
          },
          "metadata": {
            "tags": []
          },
          "execution_count": 46
        }
      ]
    },
    {
      "cell_type": "code",
      "metadata": {
        "id": "Fb_wkasS7Anx",
        "colab_type": "code",
        "colab": {
          "base_uri": "https://localhost:8080/",
          "height": 35
        },
        "outputId": "c43e3778-ab6c-41d7-9f40-7c0c9f86bd77"
      },
      "source": [
        "3372*0.8"
      ],
      "execution_count": 47,
      "outputs": [
        {
          "output_type": "execute_result",
          "data": {
            "text/plain": [
              "2697.6000000000004"
            ]
          },
          "metadata": {
            "tags": []
          },
          "execution_count": 47
        }
      ]
    },
    {
      "cell_type": "code",
      "metadata": {
        "id": "UYlXipHS7OZL",
        "colab_type": "code",
        "colab": {
          "base_uri": "https://localhost:8080/",
          "height": 89
        },
        "outputId": "82d01efb-cb3e-48f9-94a2-6d1660c1a10f"
      },
      "source": [
        "#Train model using boot straping\n",
        "for i in range(15):\n",
        "    sample_x,sample_y = CreateSample()\n",
        "    M1.fit(sample_x, sample_y, epochs=Nepochs, batch_size=5, verbose=0)"
      ],
      "execution_count": 48,
      "outputs": [
        {
          "output_type": "stream",
          "text": [
            "WARNING:tensorflow:From /usr/local/lib/python2.7/dist-packages/tensorflow/python/ops/math_ops.py:3066: to_int32 (from tensorflow.python.ops.math_ops) is deprecated and will be removed in a future version.\n",
            "Instructions for updating:\n",
            "Use tf.cast instead.\n"
          ],
          "name": "stdout"
        }
      ]
    },
    {
      "cell_type": "code",
      "metadata": {
        "id": "abJ1zGLE-a2i",
        "colab_type": "code",
        "colab": {
          "base_uri": "https://localhost:8080/",
          "height": 191
        },
        "outputId": "e1337ab2-ee48-4eda-e902-9b570dc1ba7c"
      },
      "source": [
        "y_pred = M1.predict(x_test)\n",
        "\n",
        "# Print classfication report\n",
        "target_names = ['Honest','Fraudulent']\n",
        "confusion_matrix = cm(y_test, np.round(y_pred))\n",
        "print(\"Classification Report for TrustKeeper\")\n",
        "print(classification_report(y_test, np.round(y_pred)))"
      ],
      "execution_count": 51,
      "outputs": [
        {
          "output_type": "stream",
          "text": [
            "Classification Report for TrustKeeper\n",
            "              precision    recall  f1-score   support\n",
            "\n",
            "         0.0       0.99      0.93      0.96      9119\n",
            "         1.0       0.54      0.93      0.69       846\n",
            "\n",
            "   micro avg       0.93      0.93      0.93      9965\n",
            "   macro avg       0.77      0.93      0.82      9965\n",
            "weighted avg       0.96      0.93      0.94      9965\n",
            "\n"
          ],
          "name": "stdout"
        }
      ]
    },
    {
      "cell_type": "code",
      "metadata": {
        "id": "efoJjOHU-ela",
        "colab_type": "code",
        "colab": {
          "base_uri": "https://localhost:8080/",
          "height": 493
        },
        "outputId": "c80dac4b-f96d-4a34-d6b7-4b2d584cdd86"
      },
      "source": [
        "plt.figure(figsize=(8,6))\n",
        "plot_confusion_matrix(confusion_matrix, classes=target_names, normalize=True,\n",
        "                      title='Normalized confusion matrix')"
      ],
      "execution_count": 52,
      "outputs": [
        {
          "output_type": "stream",
          "text": [
            "Normalized confusion matrix\n",
            "[[0.92740432 0.07259568]\n",
            " [0.06501182 0.93498818]]\n"
          ],
          "name": "stdout"
        },
        {
          "output_type": "display_data",
          "data": {
            "image/png": "[encoded data removed]",
            "text/plain": [
              "<Figure size 576x432 with 2 Axes>"
            ]
          },
          "metadata": {
            "tags": []
          }
        }
      ]
    },
    {
      "cell_type": "code",
      "metadata": {
        "id": "PTHDjMa67Z4p",
        "colab_type": "code",
        "colab": {
          "base_uri": "https://localhost:8080/",
          "height": 191
        },
        "outputId": "345405e3-1ee7-4183-f223-2d8eb46252bd"
      },
      "source": [
        "y_pred = M1.predict(X_val)\n",
        "# Print confusion matrix\n",
        "confusion_matrix = cm(y_val, np.round(y_pred))\n",
        "print(\"Classification Report for TrustKeeper (Validation set)\")\n",
        "print(classification_report(y_val, np.round(y_pred)))"
      ],
      "execution_count": 53,
      "outputs": [
        {
          "output_type": "stream",
          "text": [
            "Classification Report for TrustKeeper (Validation set)\n",
            "              precision    recall  f1-score   support\n",
            "\n",
            "         0.0       0.97      0.91      0.94      9075\n",
            "         1.0       0.46      0.74      0.57       881\n",
            "\n",
            "   micro avg       0.90      0.90      0.90      9956\n",
            "   macro avg       0.71      0.83      0.75      9956\n",
            "weighted avg       0.93      0.90      0.91      9956\n",
            "\n"
          ],
          "name": "stdout"
        }
      ]
    },
    {
      "cell_type": "code",
      "metadata": {
        "id": "oG_INn_t878Q",
        "colab_type": "code",
        "colab": {
          "base_uri": "https://localhost:8080/",
          "height": 493
        },
        "outputId": "5a6637fa-1b29-457b-ca5b-709ecab57ca8"
      },
      "source": [
        "plt.figure(figsize=(8,6))\n",
        "plot_confusion_matrix(confusion_matrix, classes=target_names, normalize=True,\n",
        "                      title='Normalized confusion matrix (Validation)')"
      ],
      "execution_count": 54,
      "outputs": [
        {
          "output_type": "stream",
          "text": [
            "Normalized confusion matrix\n",
            "[[0.91349862 0.08650138]\n",
            " [0.2553916  0.7446084 ]]\n"
          ],
          "name": "stdout"
        },
        {
          "output_type": "display_data",
          "data": {
            "image/png": "[encoded data removed]",
            "text/plain": [
              "<Figure size 576x432 with 2 Axes>"
            ]
          },
          "metadata": {
            "tags": []
          }
        }
      ]
    },
    {
      "cell_type": "code",
      "metadata": {
        "id": "u4P_Gk9V-Dyx",
        "colab_type": "code",
        "colab": {}
      },
      "source": [
        "import pickle\n",
        "M1.save('TrustKeeper.h5')"
      ],
      "execution_count": 0,
      "outputs": []
    },
    {
      "cell_type": "code",
      "metadata": {
        "id": "mME0YOrE_ceL",
        "colab_type": "code",
        "colab": {}
      },
      "source": [
        "#without node2vec\n",
        "input_size = 40 # Features from X matrix\n",
        "\n",
        "M1 = Sequential()\n",
        "M1.add(Dense(128, activation='relu', input_shape=(input_size,)))\n",
        "M1.add(Dense(128, activation='relu'))\n",
        "M1.add(Dense(64, activation='relu'))\n",
        "M1.add(Dense(32, activation='relu'))\n",
        "M1.add(Dense(16, activation='relu'))\n",
        "M1.add(Dense(1,activation='sigmoid'))\n",
        "nadam = keras.optimizers.Nadam(lr=1e-6, beta_1=0.9, beta_2=0.999, epsilon=None, schedule_decay=0.004)\n",
        "\n",
        "M1.compile(loss='binary_crossentropy',\n",
        "              optimizer=nadam,\n",
        "              metrics=['accuracy'])\n",
        "\n",
        "# Define parameters\n",
        "Nepochs = 10"
      ],
      "execution_count": 0,
      "outputs": []
    },
    {
      "cell_type": "code",
      "metadata": {
        "id": "hRVYiAUxAFVW",
        "colab_type": "code",
        "colab": {}
      },
      "source": [
        "cols_to_keep = list(range(14,20)) + list(range(34,40))\n",
        "for i in range(15):\n",
        "    sample_x,sample_y = CreateSample()\n",
        "    M2.fit(sample_x[:,cols_to_keep], sample_y, epochs=Nepochs, batch_size=5, verbose=0)"
      ],
      "execution_count": 0,
      "outputs": []
    }
  ]
}