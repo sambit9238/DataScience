{
  "nbformat": 4,
  "nbformat_minor": 0,
  "metadata": {
    "colab": {
      "name": "fraud_invention.ipynb",
      "version": "0.3.2",
      "provenance": [],
      "include_colab_link": true
    },
    "kernelspec": {
      "name": "python2",
      "display_name": "Python 2"
    },
    "accelerator": "GPU"
  },
  "cells": [
    {
      "cell_type": "markdown",
      "metadata": {
        "id": "view-in-github",
        "colab_type": "text"
      },
      "source": [
        "<a href=\"https://colab.research.google.com/github/sambit9238/DataScience/blob/master/fraud_invention.ipynb\" target=\"_parent\"><img src=\"https://colab.research.google.com/assets/colab-badge.svg\" alt=\"Open In Colab\"/></a>"
      ]
    },
    {
      "cell_type": "code",
      "metadata": {
        "id": "XuRm3EaWUnnT",
        "colab_type": "code",
        "colab": {}
      },
      "source": [
        "import pandas as pd\n",
        "import numpy as np\n",
        "import matplotlib.pyplot as plt\n",
        "import csv\n",
        "import itertools\n",
        "%matplotlib inline"
      ],
      "execution_count": 0,
      "outputs": []
    },
    {
      "cell_type": "code",
      "metadata": {
        "id": "Quf1AcWcWWdE",
        "colab_type": "code",
        "outputId": "0eb49057-bf7d-4346-c210-5a0252bfabeb",
        "colab": {
          "base_uri": "https://localhost:8080/",
          "height": 204
        }
      },
      "source": [
        "!wget https://snap.stanford.edu/data/soc-sign-bitcoinotc.csv.gz\n",
        "!gunzip -k soc-sign-bitcoinotc.csv.gz"
      ],
      "execution_count": 2,
      "outputs": [
        {
          "output_type": "stream",
          "text": [
            "--2019-05-27 08:55:34--  https://snap.stanford.edu/data/soc-sign-bitcoinotc.csv.gz\n",
            "Resolving snap.stanford.edu (snap.stanford.edu)... 171.64.75.80\n",
            "Connecting to snap.stanford.edu (snap.stanford.edu)|171.64.75.80|:443... connected.\n",
            "HTTP request sent, awaiting response... 200 OK\n",
            "Length: 397258 (388K) [application/x-gzip]\n",
            "Saving to: ‘soc-sign-bitcoinotc.csv.gz’\n",
            "\n",
            "\r          soc-sign-   0%[                    ]       0  --.-KB/s               \rsoc-sign-bitcoinotc 100%[===================>] 387.95K  2.09MB/s    in 0.2s    \n",
            "\n",
            "2019-05-27 08:55:35 (2.09 MB/s) - ‘soc-sign-bitcoinotc.csv.gz’ saved [397258/397258]\n",
            "\n"
          ],
          "name": "stdout"
        }
      ]
    },
    {
      "cell_type": "code",
      "metadata": {
        "id": "b-FX-6Y0XecS",
        "colab_type": "code",
        "outputId": "613c599a-fb0a-4792-9639-c5841f761de9",
        "colab": {
          "base_uri": "https://localhost:8080/",
          "height": 204
        }
      },
      "source": [
        "!wget https://snap.stanford.edu/data/soc-sign-bitcoinalpha.csv.gz\n",
        "!gunzip -k soc-sign-bitcoinalpha.csv.gz"
      ],
      "execution_count": 3,
      "outputs": [
        {
          "output_type": "stream",
          "text": [
            "--2019-05-27 08:55:40--  https://snap.stanford.edu/data/soc-sign-bitcoinalpha.csv.gz\n",
            "Resolving snap.stanford.edu (snap.stanford.edu)... 171.64.75.80\n",
            "Connecting to snap.stanford.edu (snap.stanford.edu)|171.64.75.80|:443... connected.\n",
            "HTTP request sent, awaiting response... 200 OK\n",
            "Length: 149480 (146K) [application/x-gzip]\n",
            "Saving to: ‘soc-sign-bitcoinalpha.csv.gz’\n",
            "\n",
            "\r          soc-sign-   0%[                    ]       0  --.-KB/s               \rsoc-sign-bitcoinalp 100%[===================>] 145.98K  --.-KB/s    in 0.1s    \n",
            "\n",
            "2019-05-27 08:55:41 (1.19 MB/s) - ‘soc-sign-bitcoinalpha.csv.gz’ saved [149480/149480]\n",
            "\n"
          ],
          "name": "stdout"
        }
      ]
    },
    {
      "cell_type": "code",
      "metadata": {
        "id": "9Gsst1z_Xghr",
        "colab_type": "code",
        "outputId": "82a83e28-a048-4275-9110-4ec260b2e33f",
        "colab": {
          "base_uri": "https://localhost:8080/",
          "height": 68
        }
      },
      "source": [
        "!ls"
      ],
      "execution_count": 4,
      "outputs": [
        {
          "output_type": "stream",
          "text": [
            "sample_data\t\t      soc-sign-bitcoinotc.csv\n",
            "soc-sign-bitcoinalpha.csv     soc-sign-bitcoinotc.csv.gz\n",
            "soc-sign-bitcoinalpha.csv.gz\n"
          ],
          "name": "stdout"
        }
      ]
    },
    {
      "cell_type": "code",
      "metadata": {
        "id": "uqxFldPmYLt_",
        "colab_type": "code",
        "outputId": "757a4aaa-9010-40fa-b8e3-3728af83f3c2",
        "colab": {
          "base_uri": "https://localhost:8080/",
          "height": 561
        }
      },
      "source": [
        "!wget https://github.com/Jhird/TrustKeeper/raw/master/1_ORIGINAL_NETWORK.csv\n",
        "!wget https://github.com/Jhird/TrustKeeper/raw/master/2_TRIMMED_NETWORK.csv\n",
        "#!wget https://github.com/Jhird/TrustKeeper/blob/master/3_TEST_NETWORK.csv"
      ],
      "execution_count": 5,
      "outputs": [
        {
          "output_type": "stream",
          "text": [
            "--2019-05-27 08:55:52--  https://github.com/Jhird/TrustKeeper/raw/master/1_ORIGINAL_NETWORK.csv\n",
            "Resolving github.com (github.com)... 192.30.253.113\n",
            "Connecting to github.com (github.com)|192.30.253.113|:443... connected.\n",
            "HTTP request sent, awaiting response... 302 Found\n",
            "Location: https://raw.githubusercontent.com/Jhird/TrustKeeper/master/1_ORIGINAL_NETWORK.csv [following]\n",
            "--2019-05-27 08:55:52--  https://raw.githubusercontent.com/Jhird/TrustKeeper/master/1_ORIGINAL_NETWORK.csv\n",
            "Resolving raw.githubusercontent.com (raw.githubusercontent.com)... 151.101.0.133, 151.101.64.133, 151.101.128.133, ...\n",
            "Connecting to raw.githubusercontent.com (raw.githubusercontent.com)|151.101.0.133|:443... connected.\n",
            "HTTP request sent, awaiting response... 200 OK\n",
            "Length: 1973980 (1.9M) [text/plain]\n",
            "Saving to: ‘1_ORIGINAL_NETWORK.csv’\n",
            "\n",
            "\r1_ORIGINAL_NETWORK.   0%[                    ]       0  --.-KB/s               \r1_ORIGINAL_NETWORK. 100%[===================>]   1.88M  --.-KB/s    in 0.05s   \n",
            "\n",
            "2019-05-27 08:55:52 (36.9 MB/s) - ‘1_ORIGINAL_NETWORK.csv’ saved [1973980/1973980]\n",
            "\n",
            "--2019-05-27 08:55:55--  https://github.com/Jhird/TrustKeeper/raw/master/2_TRIMMED_NETWORK.csv\n",
            "Resolving github.com (github.com)... 192.30.253.113\n",
            "Connecting to github.com (github.com)|192.30.253.113|:443... connected.\n",
            "HTTP request sent, awaiting response... 302 Found\n",
            "Location: https://raw.githubusercontent.com/Jhird/TrustKeeper/master/2_TRIMMED_NETWORK.csv [following]\n",
            "--2019-05-27 08:55:55--  https://raw.githubusercontent.com/Jhird/TrustKeeper/master/2_TRIMMED_NETWORK.csv\n",
            "Resolving raw.githubusercontent.com (raw.githubusercontent.com)... 151.101.0.133, 151.101.64.133, 151.101.128.133, ...\n",
            "Connecting to raw.githubusercontent.com (raw.githubusercontent.com)|151.101.0.133|:443... connected.\n",
            "HTTP request sent, awaiting response... 200 OK\n",
            "Length: 1645113 (1.6M) [text/plain]\n",
            "Saving to: ‘2_TRIMMED_NETWORK.csv’\n",
            "\n",
            "2_TRIMMED_NETWORK.c 100%[===================>]   1.57M  --.-KB/s    in 0.05s   \n",
            "\n",
            "2019-05-27 08:55:56 (32.5 MB/s) - ‘2_TRIMMED_NETWORK.csv’ saved [1645113/1645113]\n",
            "\n"
          ],
          "name": "stdout"
        }
      ]
    },
    {
      "cell_type": "code",
      "metadata": {
        "id": "KxbILfHhbWw0",
        "colab_type": "code",
        "outputId": "a35c3903-9e6d-4a60-9ebf-f46ef5431613",
        "colab": {
          "base_uri": "https://localhost:8080/",
          "height": 85
        }
      },
      "source": [
        "!ls"
      ],
      "execution_count": 6,
      "outputs": [
        {
          "output_type": "stream",
          "text": [
            "1_ORIGINAL_NETWORK.csv\t   soc-sign-bitcoinalpha.csv.gz\n",
            "2_TRIMMED_NETWORK.csv\t   soc-sign-bitcoinotc.csv\n",
            "sample_data\t\t   soc-sign-bitcoinotc.csv.gz\n",
            "soc-sign-bitcoinalpha.csv\n"
          ],
          "name": "stdout"
        }
      ]
    },
    {
      "cell_type": "code",
      "metadata": {
        "id": "cGF7KOwXYQdc",
        "colab_type": "code",
        "colab": {}
      },
      "source": [
        "#Preprocessing the transaction data"
      ],
      "execution_count": 0,
      "outputs": []
    },
    {
      "cell_type": "code",
      "metadata": {
        "id": "AWU5Z5jXZMv-",
        "colab_type": "code",
        "outputId": "f49f9785-20a5-41a7-fc81-cbf5e928790a",
        "colab": {
          "base_uri": "https://localhost:8080/",
          "height": 204
        }
      },
      "source": [
        "trim_network = pd.read_csv('2_TRIMMED_NETWORK.csv')\n",
        "trim_network.head()"
      ],
      "execution_count": 8,
      "outputs": [
        {
          "output_type": "execute_result",
          "data": {
            "text/html": [
              "<div>\n",
              "<style scoped>\n",
              "    .dataframe tbody tr th:only-of-type {\n",
              "        vertical-align: middle;\n",
              "    }\n",
              "\n",
              "    .dataframe tbody tr th {\n",
              "        vertical-align: top;\n",
              "    }\n",
              "\n",
              "    .dataframe thead th {\n",
              "        text-align: right;\n",
              "    }\n",
              "</style>\n",
              "<table border=\"1\" class=\"dataframe\">\n",
              "  <thead>\n",
              "    <tr style=\"text-align: right;\">\n",
              "      <th></th>\n",
              "      <th>SOURCE</th>\n",
              "      <th>TARGET</th>\n",
              "      <th>RATING</th>\n",
              "      <th>TIMESTAMP</th>\n",
              "      <th>EPISODE</th>\n",
              "    </tr>\n",
              "  </thead>\n",
              "  <tbody>\n",
              "    <tr>\n",
              "      <th>0</th>\n",
              "      <td>35</td>\n",
              "      <td>3952</td>\n",
              "      <td>1</td>\n",
              "      <td>1.365623e+09</td>\n",
              "      <td>21958</td>\n",
              "    </tr>\n",
              "    <tr>\n",
              "      <th>1</th>\n",
              "      <td>2125</td>\n",
              "      <td>5379</td>\n",
              "      <td>-1</td>\n",
              "      <td>1.392045e+09</td>\n",
              "      <td>32086</td>\n",
              "    </tr>\n",
              "    <tr>\n",
              "      <th>2</th>\n",
              "      <td>5227</td>\n",
              "      <td>5854</td>\n",
              "      <td>1</td>\n",
              "      <td>1.417038e+09</td>\n",
              "      <td>35751</td>\n",
              "    </tr>\n",
              "    <tr>\n",
              "      <th>3</th>\n",
              "      <td>6013</td>\n",
              "      <td>13492</td>\n",
              "      <td>-1</td>\n",
              "      <td>1.393304e+09</td>\n",
              "      <td>32395</td>\n",
              "    </tr>\n",
              "    <tr>\n",
              "      <th>4</th>\n",
              "      <td>6013</td>\n",
              "      <td>13495</td>\n",
              "      <td>-1</td>\n",
              "      <td>1.392008e+09</td>\n",
              "      <td>32075</td>\n",
              "    </tr>\n",
              "  </tbody>\n",
              "</table>\n",
              "</div>"
            ],
            "text/plain": [
              "   SOURCE  TARGET  RATING     TIMESTAMP  EPISODE\n",
              "0      35    3952       1  1.365623e+09    21958\n",
              "1    2125    5379      -1  1.392045e+09    32086\n",
              "2    5227    5854       1  1.417038e+09    35751\n",
              "3    6013   13492      -1  1.393304e+09    32395\n",
              "4    6013   13495      -1  1.392008e+09    32075"
            ]
          },
          "metadata": {
            "tags": []
          },
          "execution_count": 8
        }
      ]
    },
    {
      "cell_type": "code",
      "metadata": {
        "id": "rRI_US3dZ01i",
        "colab_type": "code",
        "outputId": "442af8ea-b9c0-4a5a-fab6-b16ba19f421d",
        "colab": {
          "base_uri": "https://localhost:8080/",
          "height": 34
        }
      },
      "source": [
        "trim_network.shape"
      ],
      "execution_count": 9,
      "outputs": [
        {
          "output_type": "execute_result",
          "data": {
            "text/plain": [
              "(49822, 5)"
            ]
          },
          "metadata": {
            "tags": []
          },
          "execution_count": 9
        }
      ]
    },
    {
      "cell_type": "code",
      "metadata": {
        "id": "rmvjomIaau3C",
        "colab_type": "code",
        "colab": {}
      },
      "source": [
        "#extract node features\n",
        "def GetNodeFeatures(GDF,n):\n",
        "    if n==0:\n",
        "        return ['in_degree','pos_in_edges','neg_in_edges','out_degree','pos_out_edges','neg_out_edges']\n",
        "    # Get sub-dataframes\n",
        "    outgoing = GDF[GDF['SOURCE']==n].copy().reset_index(drop=True)\n",
        "    incoming = GDF[GDF['TARGET']==n].copy().reset_index(drop=True)\n",
        "    \n",
        "    # Compute node degree (incoming)\n",
        "    in_degree = len(incoming)\n",
        "    \n",
        "    # Compute node degree (outgoing)\n",
        "    out_degree = len(outgoing)\n",
        "    \n",
        "    # Compute number of incoming nodes with positive ratings\n",
        "    pos_in_edges = len([i for i in incoming.RATING.values if i>0])\n",
        "    \n",
        "    # Computer number of incoming nodes with negative ratings\n",
        "    neg_in_edges = len([i for i in incoming.RATING.values if i<0])\n",
        "    \n",
        "    # Repeat for outgoing edges\n",
        "    pos_out_edges = len([i for i in outgoing.RATING.values if i>0])\n",
        "    \n",
        "    # Computer number of outgoing nodes with negative ratings\n",
        "    neg_out_edges = len([i for i in outgoing.RATING.values if i<0])\n",
        "    \n",
        "    return np.array([in_degree,pos_in_edges,neg_in_edges,out_degree,pos_out_edges,neg_out_edges])"
      ],
      "execution_count": 0,
      "outputs": []
    },
    {
      "cell_type": "code",
      "metadata": {
        "id": "xNI0sXi2b8he",
        "colab_type": "code",
        "colab": {}
      },
      "source": [
        "# Define list of nodes and sort it in ascending order\n",
        "nodes = list( set(trim_network['SOURCE']) | set(trim_network['TARGET']) )\n",
        "nodes.sort()"
      ],
      "execution_count": 0,
      "outputs": []
    },
    {
      "cell_type": "code",
      "metadata": {
        "id": "kU3p9cNScGQr",
        "colab_type": "code",
        "outputId": "c5ae6a2b-a9f6-4ca7-8abe-d08b4d76278a",
        "colab": {
          "base_uri": "https://localhost:8080/",
          "height": 34
        }
      },
      "source": [
        "len(nodes)"
      ],
      "execution_count": 12,
      "outputs": [
        {
          "output_type": "execute_result",
          "data": {
            "text/plain": [
              "9664"
            ]
          },
          "metadata": {
            "tags": []
          },
          "execution_count": 12
        }
      ]
    },
    {
      "cell_type": "code",
      "metadata": {
        "id": "dAOEW6mQcIIn",
        "colab_type": "code",
        "colab": {}
      },
      "source": [
        "# The node feature matrix creation\n",
        "NF = np.zeros([len(nodes),6])\n",
        "for i,n in enumerate(nodes):\n",
        "    NF[i,:] = np.array(GetNodeFeatures(trim_network,n))"
      ],
      "execution_count": 0,
      "outputs": []
    },
    {
      "cell_type": "code",
      "metadata": {
        "id": "QRfyjUx-drns",
        "colab_type": "code",
        "colab": {}
      },
      "source": [
        "# Create a dataframe containing all these node features\n",
        "NF_df = pd.DataFrame(columns=GetNodeFeatures(trim_network,0),data=NF,index=nodes)\n",
        "NF_df.to_csv('trimmed_node_features.csv')"
      ],
      "execution_count": 0,
      "outputs": []
    },
    {
      "cell_type": "code",
      "metadata": {
        "id": "h-J-qJeUd02I",
        "colab_type": "code",
        "colab": {}
      },
      "source": [
        "NF_df = pd.read_csv('trimmed_node_features.csv',index_col=0)"
      ],
      "execution_count": 0,
      "outputs": []
    },
    {
      "cell_type": "code",
      "metadata": {
        "id": "OZ9Lr20NeVAI",
        "colab_type": "code",
        "outputId": "08d81671-4bba-4f02-d0f2-4082589ba950",
        "colab": {
          "base_uri": "https://localhost:8080/",
          "height": 204
        }
      },
      "source": [
        "NF_df.head()"
      ],
      "execution_count": 16,
      "outputs": [
        {
          "output_type": "execute_result",
          "data": {
            "text/html": [
              "<div>\n",
              "<style scoped>\n",
              "    .dataframe tbody tr th:only-of-type {\n",
              "        vertical-align: middle;\n",
              "    }\n",
              "\n",
              "    .dataframe tbody tr th {\n",
              "        vertical-align: top;\n",
              "    }\n",
              "\n",
              "    .dataframe thead th {\n",
              "        text-align: right;\n",
              "    }\n",
              "</style>\n",
              "<table border=\"1\" class=\"dataframe\">\n",
              "  <thead>\n",
              "    <tr style=\"text-align: right;\">\n",
              "      <th></th>\n",
              "      <th>in_degree</th>\n",
              "      <th>pos_in_edges</th>\n",
              "      <th>neg_in_edges</th>\n",
              "      <th>out_degree</th>\n",
              "      <th>pos_out_edges</th>\n",
              "      <th>neg_out_edges</th>\n",
              "    </tr>\n",
              "  </thead>\n",
              "  <tbody>\n",
              "    <tr>\n",
              "      <th>1</th>\n",
              "      <td>198.0</td>\n",
              "      <td>198.0</td>\n",
              "      <td>0.0</td>\n",
              "      <td>184.0</td>\n",
              "      <td>177.0</td>\n",
              "      <td>7.0</td>\n",
              "    </tr>\n",
              "    <tr>\n",
              "      <th>2</th>\n",
              "      <td>36.0</td>\n",
              "      <td>35.0</td>\n",
              "      <td>1.0</td>\n",
              "      <td>36.0</td>\n",
              "      <td>34.0</td>\n",
              "      <td>2.0</td>\n",
              "    </tr>\n",
              "    <tr>\n",
              "      <th>3</th>\n",
              "      <td>20.0</td>\n",
              "      <td>11.0</td>\n",
              "      <td>9.0</td>\n",
              "      <td>0.0</td>\n",
              "      <td>0.0</td>\n",
              "      <td>0.0</td>\n",
              "    </tr>\n",
              "    <tr>\n",
              "      <th>4</th>\n",
              "      <td>40.0</td>\n",
              "      <td>40.0</td>\n",
              "      <td>0.0</td>\n",
              "      <td>52.0</td>\n",
              "      <td>49.0</td>\n",
              "      <td>3.0</td>\n",
              "    </tr>\n",
              "    <tr>\n",
              "      <th>5</th>\n",
              "      <td>3.0</td>\n",
              "      <td>3.0</td>\n",
              "      <td>0.0</td>\n",
              "      <td>2.0</td>\n",
              "      <td>2.0</td>\n",
              "      <td>0.0</td>\n",
              "    </tr>\n",
              "  </tbody>\n",
              "</table>\n",
              "</div>"
            ],
            "text/plain": [
              "   in_degree  pos_in_edges  ...  pos_out_edges  neg_out_edges\n",
              "1      198.0         198.0  ...          177.0            7.0\n",
              "2       36.0          35.0  ...           34.0            2.0\n",
              "3       20.0          11.0  ...            0.0            0.0\n",
              "4       40.0          40.0  ...           49.0            3.0\n",
              "5        3.0           3.0  ...            2.0            0.0\n",
              "\n",
              "[5 rows x 6 columns]"
            ]
          },
          "metadata": {
            "tags": []
          },
          "execution_count": 16
        }
      ]
    },
    {
      "cell_type": "code",
      "metadata": {
        "id": "7MMvHOvket8q",
        "colab_type": "code",
        "colab": {}
      },
      "source": [
        "f = open('trimmed_network.edgelist','w')\n",
        "for i in range(len(trim_network)):\n",
        "    s = str(trim_network['SOURCE'][i])\n",
        "    t = str(trim_network['TARGET'][i])\n",
        "    f.write(s+' '+t+'\\n')\n",
        "f.close()"
      ],
      "execution_count": 0,
      "outputs": []
    },
    {
      "cell_type": "code",
      "metadata": {
        "id": "fZs8pLgqfQ5M",
        "colab_type": "code",
        "outputId": "1d60a8ad-5a70-4da7-aca1-2affa9f89fba",
        "colab": {
          "base_uri": "https://localhost:8080/",
          "height": 34
        }
      },
      "source": [
        "len(trim_network)"
      ],
      "execution_count": 18,
      "outputs": [
        {
          "output_type": "execute_result",
          "data": {
            "text/plain": [
              "49822"
            ]
          },
          "metadata": {
            "tags": []
          },
          "execution_count": 18
        }
      ]
    },
    {
      "cell_type": "code",
      "metadata": {
        "id": "mO2QHrRsfRac",
        "colab_type": "code",
        "colab": {
          "base_uri": "https://localhost:8080/",
          "height": 102
        },
        "outputId": "9e7580d3-b6c1-49cb-9b85-995d65e2f3df"
      },
      "source": [
        "!git clone https://github.com/aditya-grover/node2vec.git"
      ],
      "execution_count": 19,
      "outputs": [
        {
          "output_type": "stream",
          "text": [
            "Cloning into 'node2vec'...\n",
            "remote: Enumerating objects: 108, done.\u001b[K\n",
            "Receiving objects:   0% (1/108)   \rReceiving objects:   1% (2/108)   \rReceiving objects:   2% (3/108)   \rReceiving objects:   3% (4/108)   \rReceiving objects:   4% (5/108)   \rReceiving objects:   5% (6/108)   \rReceiving objects:   6% (7/108)   \rReceiving objects:   7% (8/108)   \rReceiving objects:   8% (9/108)   \rReceiving objects:   9% (10/108)   \rReceiving objects:  10% (11/108)   \rReceiving objects:  11% (12/108)   \rReceiving objects:  12% (13/108)   \rReceiving objects:  13% (15/108)   \rReceiving objects:  14% (16/108)   \rReceiving objects:  15% (17/108)   \rReceiving objects:  16% (18/108)   \rReceiving objects:  17% (19/108)   \rReceiving objects:  18% (20/108)   \rReceiving objects:  19% (21/108)   \rReceiving objects:  20% (22/108)   \rReceiving objects:  21% (23/108)   \rReceiving objects:  22% (24/108)   \rReceiving objects:  23% (25/108)   \rReceiving objects:  24% (26/108)   \rReceiving objects:  25% (27/108)   \rremote: Total 108 (delta 0), reused 0 (delta 0), pack-reused 108\u001b[K\n",
            "Receiving objects:  26% (29/108)   \rReceiving objects:  27% (30/108)   \rReceiving objects:  28% (31/108)   \rReceiving objects:  29% (32/108)   \rReceiving objects:  30% (33/108)   \rReceiving objects:  31% (34/108)   \rReceiving objects:  32% (35/108)   \rReceiving objects:  33% (36/108)   \rReceiving objects:  34% (37/108)   \rReceiving objects:  35% (38/108)   \rReceiving objects:  36% (39/108)   \rReceiving objects:  37% (40/108)   \rReceiving objects:  38% (42/108)   \rReceiving objects:  39% (43/108)   \rReceiving objects:  40% (44/108)   \rReceiving objects:  41% (45/108)   \rReceiving objects:  42% (46/108)   \rReceiving objects:  43% (47/108)   \rReceiving objects:  44% (48/108)   \rReceiving objects:  45% (49/108)   \rReceiving objects:  46% (50/108)   \rReceiving objects:  47% (51/108)   \rReceiving objects:  48% (52/108)   \rReceiving objects:  49% (53/108)   \rReceiving objects:  50% (54/108)   \rReceiving objects:  51% (56/108)   \rReceiving objects:  52% (57/108)   \rReceiving objects:  53% (58/108)   \rReceiving objects:  54% (59/108)   \rReceiving objects:  55% (60/108)   \rReceiving objects:  56% (61/108)   \rReceiving objects:  57% (62/108)   \rReceiving objects:  58% (63/108)   \rReceiving objects:  59% (64/108)   \rReceiving objects:  60% (65/108)   \rReceiving objects:  61% (66/108)   \rReceiving objects:  62% (67/108)   \rReceiving objects:  63% (69/108)   \rReceiving objects:  64% (70/108)   \rReceiving objects:  65% (71/108)   \rReceiving objects:  66% (72/108)   \rReceiving objects:  67% (73/108)   \rReceiving objects:  68% (74/108)   \rReceiving objects:  69% (75/108)   \rReceiving objects:  70% (76/108)   \rReceiving objects:  71% (77/108)   \rReceiving objects:  72% (78/108)   \rReceiving objects:  73% (79/108)   \rReceiving objects:  74% (80/108)   \rReceiving objects:  75% (81/108)   \rReceiving objects:  76% (83/108)   \rReceiving objects:  77% (84/108)   \rReceiving objects:  78% (85/108)   \rReceiving objects:  79% (86/108)   \rReceiving objects:  80% (87/108)   \rReceiving objects:  81% (88/108)   \rReceiving objects:  82% (89/108)   \rReceiving objects:  83% (90/108)   \rReceiving objects:  84% (91/108)   \rReceiving objects:  85% (92/108)   \rReceiving objects:  86% (93/108)   \rReceiving objects:  87% (94/108)   \rReceiving objects:  88% (96/108)   \rReceiving objects:  89% (97/108)   \rReceiving objects:  90% (98/108)   \rReceiving objects:  91% (99/108)   \rReceiving objects:  92% (100/108)   \rReceiving objects:  93% (101/108)   \rReceiving objects:  94% (102/108)   \rReceiving objects:  95% (103/108)   \rReceiving objects:  96% (104/108)   \rReceiving objects:  97% (105/108)   \rReceiving objects:  98% (106/108)   \rReceiving objects:  99% (107/108)   \rReceiving objects: 100% (108/108)   \rReceiving objects: 100% (108/108), 51.58 KiB | 10.32 MiB/s, done.\n",
            "Resolving deltas:   0% (0/39)   \rResolving deltas:   2% (1/39)   \rResolving deltas:  28% (11/39)   \rResolving deltas:  33% (13/39)   \rResolving deltas:  89% (35/39)   \rResolving deltas:  94% (37/39)   \rResolving deltas:  97% (38/39)   \rResolving deltas: 100% (39/39)   \rResolving deltas: 100% (39/39), done.\n"
          ],
          "name": "stdout"
        }
      ]
    },
    {
      "cell_type": "code",
      "metadata": {
        "id": "YV--zltMgkC_",
        "colab_type": "code",
        "colab": {
          "base_uri": "https://localhost:8080/",
          "height": 85
        },
        "outputId": "25f67f2a-23ca-4457-b3cb-f75501d679a0"
      },
      "source": [
        "!ls"
      ],
      "execution_count": 20,
      "outputs": [
        {
          "output_type": "stream",
          "text": [
            "1_ORIGINAL_NETWORK.csv\tsoc-sign-bitcoinalpha.csv     trimmed_network.edgelist\n",
            "2_TRIMMED_NETWORK.csv\tsoc-sign-bitcoinalpha.csv.gz  trimmed_node_features.csv\n",
            "node2vec\t\tsoc-sign-bitcoinotc.csv\n",
            "sample_data\t\tsoc-sign-bitcoinotc.csv.gz\n"
          ],
          "name": "stdout"
        }
      ]
    },
    {
      "cell_type": "code",
      "metadata": {
        "id": "OcQfxI_Hglx-",
        "colab_type": "code",
        "colab": {
          "base_uri": "https://localhost:8080/",
          "height": 646
        },
        "outputId": "be0c8b78-fbaf-41c0-bf1c-bebc06b98b84"
      },
      "source": [
        "!python ./node2vec/src/main.py --input ./trimmed_network.edgelist  \\\n",
        "                               --output ./trimmed_network.emb \\\n",
        "                               --dimensions 14 --num-walks 25 --iter 15"
      ],
      "execution_count": 21,
      "outputs": [
        {
          "output_type": "stream",
          "text": [
            "Walk iteration:\n",
            "1 / 25\n",
            "2 / 25\n",
            "3 / 25\n",
            "4 / 25\n",
            "5 / 25\n",
            "6 / 25\n",
            "7 / 25\n",
            "8 / 25\n",
            "9 / 25\n",
            "10 / 25\n",
            "11 / 25\n",
            "12 / 25\n",
            "13 / 25\n",
            "14 / 25\n",
            "15 / 25\n",
            "16 / 25\n",
            "17 / 25\n",
            "18 / 25\n",
            "19 / 25\n",
            "20 / 25\n",
            "21 / 25\n",
            "22 / 25\n",
            "23 / 25\n",
            "24 / 25\n",
            "25 / 25\n",
            "y\n",
            "Traceback (most recent call last):\n",
            "  File \"./node2vec/src/main.py\", line 104, in <module>\n",
            "    main(args)\n",
            "  File \"./node2vec/src/main.py\", line 100, in main\n",
            "    learn_embeddings(walks)\n",
            "  File \"./node2vec/src/main.py\", line 88, in learn_embeddings\n",
            "    model.save_word2vec_format(args.output)\n",
            "  File \"/usr/local/lib/python2.7/dist-packages/gensim/models/word2vec.py\", line 1289, in save_word2vec_format\n",
            "    raise DeprecationWarning(\"Deprecated. Use model.wv.save_word2vec_format instead.\")\n",
            "DeprecationWarning: Deprecated. Use model.wv.save_word2vec_format instead.\n"
          ],
          "name": "stdout"
        }
      ]
    },
    {
      "cell_type": "code",
      "metadata": {
        "id": "6LYLgKs3pKR3",
        "colab_type": "code",
        "colab": {
          "base_uri": "https://localhost:8080/",
          "height": 85
        },
        "outputId": "01627316-57b0-4690-bdec-318e291cc05a"
      },
      "source": [
        "!ls"
      ],
      "execution_count": 22,
      "outputs": [
        {
          "output_type": "stream",
          "text": [
            "1_ORIGINAL_NETWORK.csv\tsoc-sign-bitcoinalpha.csv     trimmed_network.edgelist\n",
            "2_TRIMMED_NETWORK.csv\tsoc-sign-bitcoinalpha.csv.gz  trimmed_node_features.csv\n",
            "node2vec\t\tsoc-sign-bitcoinotc.csv\n",
            "sample_data\t\tsoc-sign-bitcoinotc.csv.gz\n"
          ],
          "name": "stdout"
        }
      ]
    },
    {
      "cell_type": "code",
      "metadata": {
        "id": "hIGaXiYbg13o",
        "colab_type": "code",
        "colab": {}
      },
      "source": [
        "#format dictionary like node : embedding\n",
        "n = []\n",
        "e = []\n",
        "with open('./trimmed_network.emb') as fin:\n",
        "    for line in fin:\n",
        "        node_emb = line.strip().split()\n",
        "        n.append(node_emb[0])\n",
        "        e.append(node_emb[1:])"
      ],
      "execution_count": 0,
      "outputs": []
    },
    {
      "cell_type": "code",
      "metadata": {
        "id": "6Bbcc1gpj3XV",
        "colab_type": "code",
        "colab": {}
      },
      "source": [
        "n = n[1:]\n",
        "n = [int(i) for i in n]\n",
        "embs = np.zeros([len(e)-1,14])\n",
        "for i in range(1,len(e)):\n",
        "    embs[i-1] = e[i]\n",
        "embs.shape"
      ],
      "execution_count": 0,
      "outputs": []
    },
    {
      "cell_type": "code",
      "metadata": {
        "id": "Lgux42cLnG2H",
        "colab_type": "code",
        "colab": {}
      },
      "source": [
        ""
      ],
      "execution_count": 0,
      "outputs": []
    }
  ]
}